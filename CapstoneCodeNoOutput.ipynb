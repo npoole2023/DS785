{
 "cells": [
  {
   "cell_type": "markdown",
   "id": "9e7091c0",
   "metadata": {},
   "source": [
    "# Detection of Plastic in Rivers Using Object Identification"
   ]
  },
  {
   "cell_type": "markdown",
   "id": "9347003e",
   "metadata": {},
   "source": [
    "## DS 785: Capstone Code"
   ]
  },
  {
   "cell_type": "markdown",
   "id": "61a6c145",
   "metadata": {},
   "source": [
    "# Data Exploration and Transformation"
   ]
  },
  {
   "cell_type": "code",
   "execution_count": null,
   "id": "cd1bc9f2",
   "metadata": {},
   "outputs": [],
   "source": [
    "#Imports\n",
    "from datasets import load_dataset, Image\n",
    "\n",
    "import cv2 \n",
    "import os\n",
    "import PIL\n",
    "\n",
    "import pandas as pd\n"
   ]
  },
  {
   "cell_type": "markdown",
   "id": "457092c0",
   "metadata": {},
   "source": [
    "# Load Dataset"
   ]
  },
  {
   "cell_type": "code",
   "execution_count": null,
   "id": "0d72cca6",
   "metadata": {},
   "outputs": [],
   "source": [
    "#load the dataset from hugging face\n",
    "dataset = load_dataset(\"kili-technology/plastic_in_river\")"
   ]
  },
  {
   "cell_type": "code",
   "execution_count": null,
   "id": "8f02338c",
   "metadata": {},
   "outputs": [],
   "source": [
    "dataset"
   ]
  },
  {
   "cell_type": "code",
   "execution_count": null,
   "id": "99126258",
   "metadata": {},
   "outputs": [],
   "source": [
    "#break the dataset up into train test and validation sets\n",
    "trainData = dataset['train']\n",
    "testData = dataset['test']\n",
    "validationData = dataset['validation']"
   ]
  },
  {
   "cell_type": "code",
   "execution_count": null,
   "id": "c1381c97",
   "metadata": {},
   "outputs": [],
   "source": [
    "trainData.features"
   ]
  },
  {
   "cell_type": "code",
   "execution_count": null,
   "id": "13834be0",
   "metadata": {},
   "outputs": [],
   "source": [
    "testData.features"
   ]
  },
  {
   "cell_type": "code",
   "execution_count": null,
   "id": "da827fc9",
   "metadata": {},
   "outputs": [],
   "source": [
    "validationData.features"
   ]
  },
  {
   "cell_type": "code",
   "execution_count": null,
   "id": "4b2f5a23",
   "metadata": {},
   "outputs": [],
   "source": [
    "# litter represents the labels for the images\n",
    "testLabels = testData['litter']\n",
    "trainLabels = trainData['litter']\n",
    "valLabels = validationData['litter']"
   ]
  },
  {
   "cell_type": "markdown",
   "id": "1da2ef90",
   "metadata": {},
   "source": [
    "# Test Data Exploration"
   ]
  },
  {
   "cell_type": "code",
   "execution_count": null,
   "id": "65be4dec",
   "metadata": {},
   "outputs": [],
   "source": [
    "#convert labels into pandas dataframe\n",
    "#each row represents one image\n",
    "labelsPD = pd.DataFrame(testLabels)\n",
    "\n",
    "#label column is an array, determine its length\n",
    "labelsPD = labelsPD.assign(labelsLen = labelsPD['label'].apply(len))\n",
    "#bbox is an array of arrays, find its length\n",
    "labelsPD = labelsPD.assign(bboxLen = labelsPD['bbox'].apply(len))"
   ]
  },
  {
   "cell_type": "code",
   "execution_count": null,
   "id": "97eaf6ee",
   "metadata": {},
   "outputs": [],
   "source": [
    "#Check for problems in dataset\n",
    "print(\"Number of NA's in labels: \" + str(labelsPD['label'].apply(lambda x: any(pd.isna(x))).sum()))\n",
    "print(\"Number of NA's in bbox: \" + str(labelsPD['bbox'].apply(lambda x: pd.isna(x).any()).sum()))\n",
    "print(\"Number of missing labels: \" + str(labelsPD[labelsPD['labelsLen'] > 0]['label'].apply(lambda x: '' in  x).sum()))\n",
    "print(\"Number of empty labels: \" + str(labelsPD[labelsPD['labelsLen'] == 0]['label'].apply(lambda x: not x).sum()))\n",
    "print(\"Number of empty bbox: \" + str(labelsPD[labelsPD['bboxLen'] == 0]['bbox'].apply(lambda x: not x).sum()))\n",
    "\n",
    "print(\"Number of unequal label bbox pairs: \" + str(len(labelsPD[labelsPD['labelsLen'] != labelsPD['bboxLen']])))\n",
    "print(\"Number of out of bounds bbox values: \" + str(labelsPD[labelsPD['bboxLen'] > 0]['bbox'].apply(\n",
    "    lambda x: sum([not (jj <= 1 and jj >= 0) for ii in x for jj in ii])).sum()))\n",
    "\n",
    "litterLabels = [0,1,2,3]\n",
    "print(\"Data labels should be either empty or 0, 1, 2, or 3. Is this true: \" + \n",
    "      str(labelsPD[labelsPD['labelsLen'] > 0]['label'].apply(lambda x: any([ii in x for ii in litterLabels])).all()))"
   ]
  },
  {
   "cell_type": "markdown",
   "id": "96b23c06",
   "metadata": {},
   "source": [
    "# Train Data Exploration"
   ]
  },
  {
   "cell_type": "code",
   "execution_count": null,
   "id": "570282c4",
   "metadata": {},
   "outputs": [],
   "source": [
    "#convert labels into pandas dataframe\n",
    "#each row represents one image\n",
    "labelsPD = pd.DataFrame(trainLabels)\n",
    "\n",
    "#label column is an array, determine its length\n",
    "labelsPD = labelsPD.assign(labelsLen = labelsPD['label'].apply(len))\n",
    "#bbox is an array of arrays, find its length\n",
    "labelsPD = labelsPD.assign(bboxLen = labelsPD['bbox'].apply(len))"
   ]
  },
  {
   "cell_type": "code",
   "execution_count": null,
   "id": "18a946e5",
   "metadata": {},
   "outputs": [],
   "source": [
    "#check for problems in dataset\n",
    "print(\"Number of NA's in labels: \" + str(labelsPD['label'].apply(lambda x: any(pd.isna(x))).sum()))\n",
    "print(\"Number of NA's in bbox: \" + str(labelsPD['bbox'].apply(lambda x: pd.isna(x).any()).sum()))\n",
    "print(\"Number of missing labels: \" + str(labelsPD[labelsPD['labelsLen'] > 0]['label'].apply(lambda x: '' in  x).sum()))\n",
    "print(\"Number of empty labels: \" + str(labelsPD[labelsPD['labelsLen'] == 0]['label'].apply(lambda x: not x).sum()))\n",
    "print(\"Number of empty bbox: \" + str(labelsPD[labelsPD['bboxLen'] == 0]['bbox'].apply(lambda x: not x).sum()))\n",
    "\n",
    "print(\"Number of unequal label bbox pairs: \" + str(len(labelsPD[labelsPD['labelsLen'] != labelsPD['bboxLen']])))\n",
    "print(\"Number of out of bounds bbox values: \" + str(labelsPD[labelsPD['bboxLen'] > 0]['bbox'].apply(\n",
    "    lambda x: sum([not (jj <= 1 and jj >= 0) for ii in x for jj in ii])).sum()))\n",
    "\n",
    "litterLabels = [0,1,2,3]\n",
    "print(\"Data labels should be either empty or 0, 1, 2, or 3. Is this true: \" + \n",
    "      str(labelsPD[labelsPD['labelsLen'] > 0]['label'].apply(lambda x: any([ii in x for ii in litterLabels])).all()))"
   ]
  },
  {
   "cell_type": "markdown",
   "id": "878a8ab1",
   "metadata": {},
   "source": [
    "# Validation Data Exploration"
   ]
  },
  {
   "cell_type": "code",
   "execution_count": null,
   "id": "75749e71",
   "metadata": {},
   "outputs": [],
   "source": [
    "#convert labels into pandas dataframe\n",
    "#each row represents one image\n",
    "labelsPD = pd.DataFrame(valLabels)\n",
    "\n",
    "#label column is an array, determine its length\n",
    "labelsPD = labelsPD.assign(labelsLen = labelsPD['label'].apply(len))\n",
    "#bbox is an array of arrays, find its length\n",
    "labelsPD = labelsPD.assign(bboxLen = labelsPD['bbox'].apply(len))"
   ]
  },
  {
   "cell_type": "code",
   "execution_count": null,
   "id": "2b0dea97",
   "metadata": {},
   "outputs": [],
   "source": [
    "#check for problems in dataset\n",
    "print(\"Number of NA's in labels: \" + str(labelsPD['label'].apply(lambda x: any(pd.isna(x))).sum()))\n",
    "print(\"Number of NA's in bbox: \" + str(labelsPD['bbox'].apply(lambda x: pd.isna(x).any()).sum()))\n",
    "print(\"Number of missing labels: \" + str(labelsPD[labelsPD['labelsLen'] > 0]['label'].apply(lambda x: '' in  x).sum()))\n",
    "print(\"Number of empty labels: \" + str(labelsPD[labelsPD['labelsLen'] == 0]['label'].apply(lambda x: not x).sum()))\n",
    "print(\"Number of empty bbox: \" + str(labelsPD[labelsPD['bboxLen'] == 0]['bbox'].apply(lambda x: not x).sum()))\n",
    "\n",
    "print(\"Number of unequal label bbox pairs: \" + str(len(labelsPD[labelsPD['labelsLen'] != labelsPD['bboxLen']])))\n",
    "print(\"Number of out of bounds bbox values: \" + str(labelsPD[labelsPD['bboxLen'] > 0]['bbox'].apply(\n",
    "    lambda x: sum([not (jj <= 1 and jj >= 0) for ii in x for jj in ii])).sum()))\n",
    "\n",
    "litterLabels = [0,1,2,3]\n",
    "print(\"Data labels should be either empty or 0, 1, 2, or 3. Is this true: \" + \n",
    "      str(labelsPD[labelsPD['labelsLen'] > 0]['label'].apply(lambda x: any([ii in x for ii in litterLabels])).all()))"
   ]
  },
  {
   "cell_type": "markdown",
   "id": "e72e997e",
   "metadata": {},
   "source": [
    "# Save Data"
   ]
  },
  {
   "cell_type": "markdown",
   "id": "e09b348a",
   "metadata": {},
   "source": [
    "### Please determine where to save the data and make an images and labels folder"
   ]
  },
  {
   "cell_type": "markdown",
   "id": "d28c2bab",
   "metadata": {},
   "source": [
    "### Inside the images and labels folders make a train, test, and val folder"
   ]
  },
  {
   "cell_type": "markdown",
   "id": "9438a860",
   "metadata": {},
   "source": [
    "## Remove Non-Plastic Waste and Save Labels to File"
   ]
  },
  {
   "cell_type": "code",
   "execution_count": null,
   "id": "af7cef02",
   "metadata": {},
   "outputs": [],
   "source": [
    "#split between train, test and validation\n",
    "for split, data in dataset.items():\n",
    "    #location labels should be saved to\n",
    "    txtDirectory = \"D:\\school\\graduate school\\capstone\\data\\labels2\"\n",
    "    \n",
    "    #change directory to labels file\n",
    "    os.chdir(txtDirectory)\n",
    "    #change directory to either train, test, or val file\n",
    "    os.chdir(split)\n",
    "    #loop through each labels row, one file per row\n",
    "    for ii in range(len(data)):\n",
    "        #make a txt file for the label with name determined by index, index 0 will become 0.txt\n",
    "        f = open(str(ii) + \".txt\", 'w')\n",
    "        #one line in txt file per object in label array\n",
    "        for jj in range(len(data['litter'][ii]['label'])):\n",
    "            #do not add line if label is 3, this is non-plastic waste\n",
    "            if data['litter'][ii]['label'][jj] != 3:\n",
    "                #row starts with the object identifier, a number between 0 an 2\n",
    "                labelString = str(data['litter'][ii]['label'][jj])\n",
    "                #each line will have a bounding box which has four parts\n",
    "                for ee in range(4):\n",
    "                    #create the row as a string\n",
    "                    labelString = labelString + ' ' +str(data['litter'][ii]['bbox'][jj][ee])\n",
    "                labelString = labelString + '\\n'\n",
    "                #write the row to the file as a line\n",
    "                f.writelines(labelString)\n",
    "        #close the txt file\n",
    "        f.close()"
   ]
  },
  {
   "cell_type": "markdown",
   "id": "65c95b0f",
   "metadata": {},
   "source": [
    "## Save images to png"
   ]
  },
  {
   "cell_type": "code",
   "execution_count": null,
   "id": "3ac08d6e",
   "metadata": {},
   "outputs": [],
   "source": [
    "#split between train, test and validation\n",
    "for split, data in dataset.items():\n",
    "    #location images should be saved to\n",
    "    imageDirectory = f\"D:\\school\\graduate school\\capstone\\data\\images\\\\{split}\"\n",
    "    \n",
    "    #change directory to images file\n",
    "    os.chdir(imageDirectory)\n",
    "    #take the images\n",
    "    imageList = dataset[split]['image']\n",
    "    #loop through all the images\n",
    "    for ii in range(len(imageList)):\n",
    "        #for each image save the image as a png, image index 0 will be 0.png\n",
    "        imageList[ii].save(f'{ii}.png')"
   ]
  },
  {
   "cell_type": "markdown",
   "id": "18b4837d",
   "metadata": {},
   "source": [
    "# Make Test Images Into Video"
   ]
  },
  {
   "cell_type": "code",
   "execution_count": null,
   "id": "9c12cc82",
   "metadata": {},
   "outputs": [],
   "source": [
    "#change directory to where the video should be saved\n",
    "%cd C:\\Users\\grpoo\\capstone\\PlasticDetection\n",
    "#folder where test split of images data is saved\n",
    "imageFolder = 'F:/capstoneData/images/test'\n",
    "#name of video\n",
    "videoName = 'testDataset.mp4'\n",
    "#array of image names in image folder\n",
    "images = [img for img in os.listdir(image_folder) if img.endswith(\".png\")]\n",
    "#height of the video\n",
    "height = 640\n",
    "#width of the video\n",
    "width = 640\n",
    "\n",
    "#set up video at 30 frames per second\n",
    "video = cv2.VideoWriter(video_name, 0, 30, (width,height))\n",
    "\n",
    "#add each image in image file to video\n",
    "for image in images:\n",
    "    #adds an image to video\n",
    "    #first opens the image with imread\n",
    "    #second resizes image to width and height, otherwise will skip images with diffrent widths and heights\n",
    "    #third adds the image to video\n",
    "    video.write(cv2.resize(cv2.imread(os.path.join(image_folder, image)), (width, height)))\n",
    "\n",
    "#save and close video\n",
    "cv2.destroyAllWindows()\n",
    "video.release()"
   ]
  },
  {
   "cell_type": "markdown",
   "id": "76ffa260",
   "metadata": {},
   "source": [
    "# YOLO Model Training, and Testing"
   ]
  },
  {
   "cell_type": "code",
   "execution_count": null,
   "id": "642f8175",
   "metadata": {},
   "outputs": [],
   "source": [
    "#Imports\n",
    "from ultralytics import YOLO\n",
    "from memory_profiler import memory_usage"
   ]
  },
  {
   "cell_type": "markdown",
   "id": "138587ac",
   "metadata": {},
   "source": [
    "# YOLOv8"
   ]
  },
  {
   "cell_type": "markdown",
   "id": "a7a88845",
   "metadata": {},
   "source": [
    "## YOLOv8 Small"
   ]
  },
  {
   "cell_type": "markdown",
   "id": "c5f8f989",
   "metadata": {},
   "source": [
    "### Train (Warning this may take a long time and use a lot of RAM)"
   ]
  },
  {
   "cell_type": "code",
   "execution_count": null,
   "id": "72fc9089",
   "metadata": {},
   "outputs": [],
   "source": [
    "# Load a pretrained YOLOv8 small model\n",
    "# on the first run this will download the yolov8s.pt file\n",
    "model = YOLO('yolov8s.pt')\n",
    "\n",
    "# data need a yaml file as input.\n",
    "\n",
    "#workers denote the number of threads used.\n",
    "#batch will affect how much ram training uses. If an out of memory error occurs, try to decrease batch size.\n",
    "\n",
    "#running train will create a new file called runs.\n",
    "\n",
    "#when training completes the best model will be saved as best.pt\n",
    "#training results including the best model is saved in \\runs\\detect\\ folder under value inputted in name\n",
    "#the models are saved in the name folder under \\weights\\\n",
    "\n",
    "results = model.train(data='F:/capstoneData/data.yaml', epochs=100, workers=8, batch=4, iou=0.5, name='yolo8Small',\n",
    "                      seed=1)"
   ]
  },
  {
   "cell_type": "markdown",
   "id": "3bb932c9",
   "metadata": {},
   "source": [
    "### Test"
   ]
  },
  {
   "cell_type": "code",
   "execution_count": null,
   "id": "77bd7caa",
   "metadata": {},
   "outputs": [],
   "source": [
    "#Load Trained Model\n",
    "model = YOLO('C:/Users/grpoo/capstone/PlasticDetection/runs/detect/yolo8Small/weights/best.pt')\n",
    "\n",
    "# Evaluate the model's performance on the test dataset\n",
    "results = model.val(iou = 0.5, split = 'test')\n",
    "\n",
    "# Export the model\n",
    "#export files will be in the same weights folder as the inputted best.pt\n",
    "success = model.export()\n",
    "success = model.export(format='onnx')\n",
    "success = model.export(format='torchscript')"
   ]
  },
  {
   "cell_type": "markdown",
   "id": "82e50794",
   "metadata": {},
   "source": [
    "### Measure YOLO Model RAM Usage"
   ]
  },
  {
   "cell_type": "code",
   "execution_count": null,
   "id": "8868789c",
   "metadata": {},
   "outputs": [],
   "source": [
    "#Measure YOLO Model RAM Usage\n",
    "\n",
    "#This will be passed to memory_usgae to run the model\n",
    "def detYolo8Small():\n",
    "    model = YOLO('C:/Users/grpoo/capstone/PlasticDetection/runs/detect/yolo8Small/weights/best.pt')\n",
    "    #make predictions on video of test dataset\n",
    "    model.predict(source='C:/Users/grpoo/capstone/PlasticDetection/testDataset.mp4', iou = 0.5, verbose = False, stream = True)\n",
    "    return\n",
    "#Measure RAM Usage\n",
    "mem_usage = memory_usage(detYolo8Small)\n",
    "#Report results, the max of mem_usage is the max RAM usage\n",
    "print('Maximum memory usage: ' + str(round(max(mem_usage),2)) + ' MB, Average memory usage: '\n",
    "      + str(round(sum(mem_usage)/len(mem_usage),2)) + ' MB')"
   ]
  },
  {
   "cell_type": "markdown",
   "id": "1a09b326",
   "metadata": {},
   "source": [
    "## YOLOv8 Medium"
   ]
  },
  {
   "cell_type": "markdown",
   "id": "5fd5d15b",
   "metadata": {},
   "source": [
    "### Train (Warning this may take a long time and use a lot of RAM)"
   ]
  },
  {
   "cell_type": "code",
   "execution_count": null,
   "id": "6058fd6f",
   "metadata": {},
   "outputs": [],
   "source": [
    "# Load a pretrained YOLOv8 medium model\n",
    "# on the first run this will download the yolov8s.pt file\n",
    "model = YOLO('yolov8m.pt')\n",
    "\n",
    "# data need a yaml file as input.\n",
    "\n",
    "#workers denote the number of threads used.\n",
    "#batch will affect how much ram training uses. If an out of memory error occurs, try to decrease batch size.\n",
    "\n",
    "#running train will create a new file called runs.\n",
    "\n",
    "#when training completes the best model will be saved as best.pt\n",
    "#training results including the best model is saved in \\runs\\detect\\ folder under value inputted in name\n",
    "#the models are saved in the name folder under \\weights\\\n",
    "results = model.train(data='F:/capstoneData/data.yaml', epochs=100, workers=8, batch=4, iou = 0.5, name = 'yolo8Medium',\n",
    "                      seed = 1)"
   ]
  },
  {
   "cell_type": "markdown",
   "id": "efda0b12",
   "metadata": {},
   "source": [
    "### Test"
   ]
  },
  {
   "cell_type": "code",
   "execution_count": null,
   "id": "98d3c10d",
   "metadata": {},
   "outputs": [],
   "source": [
    "#Load Trained Model\n",
    "model = YOLO('C:/Users/grpoo/capstone/PlasticDetection/runs/detect/yolo8Medium/weights/best.pt')\n",
    "\n",
    "# Evaluate the model's performance on the test dataset\n",
    "results = model.val(iou = 0.5, split = 'test')\n",
    "\n",
    "# Export the model\n",
    "#export files will be in the same weights folder as the inputted best.pt\n",
    "success = model.export()\n",
    "success = model.export(format='onnx')\n",
    "success = model.export(format='torchscript')"
   ]
  },
  {
   "cell_type": "markdown",
   "id": "7b3f9ddf",
   "metadata": {},
   "source": [
    "### Measure YOLO Model RAM Usage"
   ]
  },
  {
   "cell_type": "code",
   "execution_count": null,
   "id": "42a5fade",
   "metadata": {},
   "outputs": [],
   "source": [
    "#Measure YOLO Model RAM Usage\n",
    "\n",
    "#This will be passed to memory_usgae to run the model\n",
    "def detYolo8Medium():\n",
    "    model = YOLO('C:/Users/grpoo/capstone/PlasticDetection/runs/detect/yolo8Medium/weights/best.pt')\n",
    "    #make predictions on video of test dataset\n",
    "    model.predict(source='C:/Users/grpoo/capstone/PlasticDetection/testDataset.mp4', iou = 0.5, verbose = False, stream = True)\n",
    "    return\n",
    "#Measure RAM Usage\n",
    "mem_usage = memory_usage(detYolo8Medium)\n",
    "#Report results, the max of mem_usage is the max RAM usage\n",
    "print('Maximum memory usage: ' + str(round(max(mem_usage),2)) + ' MB, Average memory usage: '\n",
    "      + str(round(sum(mem_usage)/len(mem_usage),2)) + ' MB')"
   ]
  },
  {
   "cell_type": "markdown",
   "id": "cb3cb168",
   "metadata": {},
   "source": [
    "# YOLOv5"
   ]
  },
  {
   "cell_type": "markdown",
   "id": "7363987c",
   "metadata": {},
   "source": [
    "## YOLOv5 Small"
   ]
  },
  {
   "cell_type": "markdown",
   "id": "9c860899",
   "metadata": {},
   "source": [
    "### Train (Warning this may take a long time and use a lot of RAM)"
   ]
  },
  {
   "cell_type": "code",
   "execution_count": null,
   "id": "10667252",
   "metadata": {},
   "outputs": [],
   "source": [
    "# Load a pretrained YOLOv5 small model\n",
    "# on the first run this will download the yolov8s.pt file\n",
    "model = YOLO('yolov5su.pt')\n",
    "\n",
    "# data need a yaml file as input.\n",
    "\n",
    "#workers denote the number of threads used.\n",
    "#batch will affect how much ram training uses. If an out of memory error occurs, try to decrease batch size.\n",
    "\n",
    "#running train will create a new file called runs.\n",
    "\n",
    "#when training completes the best model will be saved as best.pt\n",
    "#training results including the best model is saved in \\runs\\detect\\ folder under value inputted in name\n",
    "#the models are saved in the name folder under \\weights\\\n",
    "results = model.train(data='F:/capstoneData/data.yaml', epochs=100, workers=8, batch=4, iou = 0.5, name = 'yolo5Small',\n",
    "                      seed = 1)"
   ]
  },
  {
   "cell_type": "markdown",
   "id": "74995cce",
   "metadata": {},
   "source": [
    "### Test"
   ]
  },
  {
   "cell_type": "code",
   "execution_count": null,
   "id": "ce83ae1f",
   "metadata": {},
   "outputs": [],
   "source": [
    "#Load Trained Model\n",
    "model = YOLO('C:/Users/grpoo/capstone/PlasticDetection/runs/detect/yolo5Small/weights/best.pt')\n",
    "\n",
    "# Evaluate the model's performance on the test dataset\n",
    "results = model.val(iou = 0.5, split = 'test')\n",
    "\n",
    "# Export the model\n",
    "#export files will be in the same weights folder as the inputted best.pt\n",
    "success = model.export()\n",
    "success = model.export(format='onnx')\n",
    "success = model.export(format='torchscript')"
   ]
  },
  {
   "cell_type": "markdown",
   "id": "5c137ecc",
   "metadata": {},
   "source": [
    "### Measure YOLO Model RAM Usage"
   ]
  },
  {
   "cell_type": "code",
   "execution_count": null,
   "id": "cd9290a0",
   "metadata": {},
   "outputs": [],
   "source": [
    "#Measure YOLO Model RAM Usage\n",
    "\n",
    "#This will be passed to memory_usgae to run the model\n",
    "def detYolo5Small():\n",
    "    model = YOLO('C:/Users/grpoo/capstone/PlasticDetection/runs/detect/yolo5Small/weights/best.pt')\n",
    "    #make predictions on video of test dataset\n",
    "    model.predict(source='C:/Users/grpoo/capstone/PlasticDetection/testDataset.mp4', iou = 0.5, verbose = False, stream = True)\n",
    "    return\n",
    "#Measure RAM Usage\n",
    "mem_usage = memory_usage(detYolo5Small)\n",
    "#Report results, the max of mem_usage is the max RAM usage\n",
    "print('Maximum memory usage: ' + str(round(max(mem_usage),2)) + ' MB, Average memory usage: '\n",
    "      + str(round(sum(mem_usage)/len(mem_usage),2)) + ' MB')"
   ]
  },
  {
   "cell_type": "markdown",
   "id": "edb9aad2",
   "metadata": {},
   "source": [
    "## YOLOv5 Medium"
   ]
  },
  {
   "cell_type": "markdown",
   "id": "8a1098b5",
   "metadata": {},
   "source": [
    "### Train (Warning this may take a long time and use a lot of RAM)"
   ]
  },
  {
   "cell_type": "code",
   "execution_count": null,
   "id": "2939aeee",
   "metadata": {},
   "outputs": [],
   "source": [
    "# Load a pretrained YOLOv5 medium model\n",
    "# on the first run this will download the yolov8s.pt file\n",
    "model = YOLO('yolov5mu.pt')\n",
    "\n",
    "# data need a yaml file as input.\n",
    "\n",
    "#workers denote the number of threads used.\n",
    "#batch will affect how much ram training uses. If an out of memory error occurs, try to decrease batch size.\n",
    "\n",
    "#running train will create a new file called runs.\n",
    "\n",
    "#when training completes the best model will be saved as best.pt\n",
    "#training results including the best model is saved in \\runs\\detect\\ folder under value inputted in name\n",
    "#the models are saved in the name folder under \\weights\\\n",
    "results = model.train(data='F:/capstoneData/data.yaml', epochs=100, workers=8, batch=4, iou = 0.5, name = 'yolo5Medium',\n",
    "                      seed = 1)"
   ]
  },
  {
   "cell_type": "markdown",
   "id": "a45bfa33",
   "metadata": {},
   "source": [
    "### Test"
   ]
  },
  {
   "cell_type": "code",
   "execution_count": null,
   "id": "5766c3c7",
   "metadata": {},
   "outputs": [],
   "source": [
    "#Load Trained Model\n",
    "model = YOLO('C:/Users/grpoo/capstone/PlasticDetection/runs/detect/yolo5Medium/weights/best.pt')\n",
    "\n",
    "# Evaluate the model's performance on the test dataset\n",
    "results = model.val(iou = 0.5, split = 'test')\n",
    "\n",
    "# Export the model\n",
    "#export files will be in the same weights folder as the inputted best.pt\n",
    "success = model.export()\n",
    "success = model.export(format='onnx')\n",
    "success = model.export(format='torchscript')"
   ]
  },
  {
   "cell_type": "markdown",
   "id": "81e0a635",
   "metadata": {},
   "source": [
    "### Measure YOLO Model RAM Usage"
   ]
  },
  {
   "cell_type": "code",
   "execution_count": null,
   "id": "d5b489df",
   "metadata": {},
   "outputs": [],
   "source": [
    "#Measure YOLO Model RAM Usage\n",
    "\n",
    "#This will be passed to memory_usgae to run the model\n",
    "def detYolo5Medium():\n",
    "    model = YOLO('C:/Users/grpoo/capstone/PlasticDetection/runs/detect/yolo5Medium/weights/best.pt')\n",
    "    #make predictions on video of test dataset\n",
    "    model.predict(source='C:/Users/grpoo/capstone/PlasticDetection/testDataset.mp4', iou = 0.5, verbose = False, stream = True)\n",
    "    return\n",
    "#Measure RAM Usage\n",
    "mem_usage = memory_usage(detYolo5Medium)\n",
    "#Report results, the max of mem_usage is the max RAM usage\n",
    "print('Maximum memory usage: ' + str(round(max(mem_usage),2)) + ' MB, Average memory usage: '\n",
    "      + str(round(sum(mem_usage)/len(mem_usage),2)) + ' MB')"
   ]
  },
  {
   "cell_type": "markdown",
   "id": "94270734",
   "metadata": {},
   "source": [
    "# YOLOv7"
   ]
  },
  {
   "cell_type": "markdown",
   "id": "8b44daf9",
   "metadata": {},
   "source": [
    "#### This is setup, once downloaded this section can be skipped."
   ]
  },
  {
   "cell_type": "code",
   "execution_count": null,
   "id": "faafae24",
   "metadata": {},
   "outputs": [],
   "source": [
    "# Download YOLOv7 repository and install requirements\n",
    "!git clone https://github.com/WongKinYiu/yolov7\n",
    "%cd yolov7\n",
    "\n",
    "#Yolov7 relies on the libraries listed in requirments.txt in the yolov7 repository\n",
    "#Many of the libraries require a certain version for yolov7 to work.\n",
    "#I recommend this be done in a separate environment.\n",
    "\n",
    "#This will install yolov7 requirements.\n",
    "!pip install -r requirements.txt"
   ]
  },
  {
   "cell_type": "markdown",
   "id": "d046ca04",
   "metadata": {},
   "source": [
    "### To download the small YOLOv7 model checkpoint visit: https://github.com/WongKinYiu/yolov7/releases/download/v0.1/yolov7-tiny.pt"
   ]
  },
  {
   "cell_type": "markdown",
   "id": "9e0f3d14",
   "metadata": {},
   "source": [
    "### To download the medium YOLOv7 model checkpoint visit: https://github.com/WongKinYiu/yolov7/releases/download/v0.1/yolov7.pt"
   ]
  },
  {
   "cell_type": "markdown",
   "id": "e0263ad6",
   "metadata": {},
   "source": [
    "### Place the yolov7-tiny.pt and yolovy.pt files in the yolov7 cloned repository"
   ]
  },
  {
   "cell_type": "markdown",
   "id": "30b5dbdc",
   "metadata": {},
   "source": [
    "## YOLOv7 Small"
   ]
  },
  {
   "cell_type": "markdown",
   "id": "965a4646",
   "metadata": {},
   "source": [
    "### Train (Warning this may take a long time and use a lot of RAM)"
   ]
  },
  {
   "cell_type": "code",
   "execution_count": null,
   "id": "45df56cf",
   "metadata": {},
   "outputs": [],
   "source": [
    "#Change this to your yolov7 directory\n",
    "%cd C:\\Users\\grpoo\\capstone\\PlasticDetection\\yolov7\n",
    "\n",
    "#train.py is included with the yolov7 repository.\n",
    "\n",
    "# weights, cfg, hyp, and data need a file as input.\n",
    "\n",
    "#workers denote the number of threads used.\n",
    "#device denotes what hardware training will occur on, 0 is the first installed GPU.\n",
    "#batch-size will affect how much ram training uses. If an out of memory error occurs, try to decrease batch size.\n",
    "\n",
    "#when training completes the best model will be saved as best.pt\n",
    "#training results including the best model is saved in the yolov7 directory at runs\\train\\ folder under value inputted in --name\n",
    "#the models are saved in the name folder under \\weights\\\n",
    "\n",
    "!python train.py --epochs 100 --workers 8 --device 0 --batch-size 4 \\\n",
    "--data F:\\capstoneData\\dataYoloV7.yaml --img 640 640 --cfg cfg\\training\\yolov7-tiny-Plastic.yaml \\\n",
    "--weights 'yolov7-tiny.pt' --name yolov7TinyPlastic --hyp data\\hyp.scratch.tiny.yaml"
   ]
  },
  {
   "cell_type": "code",
   "execution_count": null,
   "id": "9b3aa5ce",
   "metadata": {},
   "outputs": [],
   "source": [
    "#Resume train if interrupted. If training is completed do not run this.\n",
    "\n",
    "#Change this to your yolov7 directory\n",
    "%cd C:\\Users\\grpoo\\capstone\\PlasticDetection\\yolov7\n",
    "    \n",
    "#last.py is created and updated automatically during training as the weights of the most recent completed epoch.\n",
    "#Training will continue from this epoch with the same parameters as initially used.\n",
    "!python train.py --weights runs\\train\\yolov7TinyPlastic\\weights\\last.py --resume"
   ]
  },
  {
   "cell_type": "markdown",
   "id": "7f8eb733",
   "metadata": {},
   "source": [
    "### Test"
   ]
  },
  {
   "cell_type": "code",
   "execution_count": null,
   "id": "042ae0e6",
   "metadata": {},
   "outputs": [],
   "source": [
    "#Change this to your yolov7 directory\n",
    "%cd C:\\Users\\grpoo\\capstone\\PlasticDetection\\yolov7\n",
    "    \n",
    "#test.py is included with the yolov7 repository. \n",
    "!python test.py --task test --data F:\\capstoneData\\dataYoloV7.yaml --weights runs\\train\\yolov7TinyPlastic\\weights\\best.pt --iou 0.5"
   ]
  },
  {
   "cell_type": "markdown",
   "id": "817e211f",
   "metadata": {},
   "source": [
    "### Export"
   ]
  },
  {
   "cell_type": "code",
   "execution_count": null,
   "id": "8230a916",
   "metadata": {},
   "outputs": [],
   "source": [
    "#Change this to your yolov7 directory\n",
    "%cd C:\\Users\\grpoo\\capstone\\PlasticDetection\\yolov7\n",
    "    \n",
    "#export.py is included with the yolov7 repository.\n",
    "#export files will be in the same weights folder as the inputted best.pt\n",
    "!python export.py --weights runs\\train\\yolov7TinyPlastic\\weights\\best.pt --iou-thres 0.5 --img-size 640 640 --max-wh 640"
   ]
  },
  {
   "cell_type": "markdown",
   "id": "f3729dd4",
   "metadata": {},
   "source": [
    "### Measure YOLO Model RAM Usage"
   ]
  },
  {
   "cell_type": "code",
   "execution_count": null,
   "id": "651a78b3",
   "metadata": {},
   "outputs": [],
   "source": [
    "#This will be passed to memory_usgae to run the model\n",
    "def detYolov7TinyPlastic():\n",
    "    #Change this to your yolov7 directory\n",
    "    %cd C:\\Users\\grpoo\\capstone\\PlasticDetection\\yolov7\n",
    "    #detect.py is included with the yolov7 repository.\n",
    "    #make predictions on video of test dataset\n",
    "    %run detect.py --weights runs\\train\\yolov7TinyPlastic\\weights\\best.pt --source C:\\Users\\grpoo\\capstone\\PlasticDetection\\testDataset.mp4 --iou-thres 0.5\n",
    "    return\n",
    "#Measure RAM Usage\n",
    "mem_usage = memory_usage(detYolov7TinyPlastic)\n",
    "#Report results, the max of mem_usage is the max RAM usage\n",
    "print('Maximum memory usage: ' + str(round(max(mem_usage),2)) + ' MB, Average memory usage: '\n",
    "      + str(round(sum(mem_usage)/len(mem_usage),2)) + ' MB')"
   ]
  },
  {
   "cell_type": "markdown",
   "id": "9957e754",
   "metadata": {},
   "source": [
    "## YOLOv7 Medium"
   ]
  },
  {
   "cell_type": "markdown",
   "id": "d26ec34b",
   "metadata": {},
   "source": [
    "### Train (Warning this may take a long time and use a lot of RAM)"
   ]
  },
  {
   "cell_type": "code",
   "execution_count": null,
   "id": "6a6554ac",
   "metadata": {},
   "outputs": [],
   "source": [
    "#Change this to your yolov7 directory\n",
    "%cd C:\\Users\\grpoo\\capstone\\PlasticDetection\\yolov7\n",
    "    \n",
    "#train.py is included with the yolov7 repository.\n",
    "\n",
    "# weights, cfg, hyp, and data need a file as input.\n",
    "\n",
    "#workers denote the number of threads used.\n",
    "#device denotes what hardware training will occur on, 0 is the first installed GPU.\n",
    "#batch-size will affect how much ram training uses. If an out of memory error occurs, try to decrease batch size.\n",
    "\n",
    "#when training completes the best model will be saved as best.pt\n",
    "#training results including the best model is saved in the yolov7 directory at runs\\train\\ folder under value inputted in --name\n",
    "#the models are saved in the name folder under \\weights\\\n",
    "\n",
    "!python train.py --epochs 100 --workers 8 --device 0 --batch-size 4 \\\n",
    "--data F:\\capstoneData\\dataYoloV7.yaml --img 640 640 --cfg cfg\\training\\yolov7-Plastic.yaml \\\n",
    "--weights 'yolov7.pt' --name yolov7Plastic --hyp data\\hyp.scratch.p5.yaml"
   ]
  },
  {
   "cell_type": "code",
   "execution_count": null,
   "id": "3ae25eb1",
   "metadata": {},
   "outputs": [],
   "source": [
    "#Resume train if interrupted. If training is completed do not run this.\n",
    "\n",
    "#Change this to your yolov7 directory\n",
    "%cd C:\\Users\\grpoo\\capstone\\PlasticDetection\\yolov7\n",
    "    \n",
    "#last.py is created and updated automatically during training as the weights of the most recent completed epoch.\n",
    "#Training will continue from this epoch with the same parameters as initially used.\n",
    "!python train.py --weights runs\\train\\yolov7Plastic\\weights\\last.py --resume"
   ]
  },
  {
   "cell_type": "markdown",
   "id": "60c19e37",
   "metadata": {},
   "source": [
    "### Test"
   ]
  },
  {
   "cell_type": "code",
   "execution_count": null,
   "id": "df0ed353",
   "metadata": {},
   "outputs": [],
   "source": [
    "#Change this to your yolov7 directory\n",
    "%cd C:\\Users\\grpoo\\capstone\\PlasticDetection\\yolov7\n",
    "    \n",
    "#test.py is included with the yolov7 repository.\n",
    "!python test.py --task test --data F:\\capstoneData\\dataYoloV7.yaml --weights runs\\train\\yolov7Plastic\\weights\\best.pt --iou 0.5"
   ]
  },
  {
   "cell_type": "markdown",
   "id": "3618b8d6",
   "metadata": {},
   "source": [
    "### Export"
   ]
  },
  {
   "cell_type": "code",
   "execution_count": null,
   "id": "eb18c2bd",
   "metadata": {},
   "outputs": [],
   "source": [
    "#Change this to your yolov7 directory\n",
    "%cd C:\\Users\\grpoo\\capstone\\PlasticDetection\\yolov7\n",
    "    \n",
    "#export.py is included with the yolov7 repository.\n",
    "#export files will be in the same weights folder as the inputted best.pt\n",
    "!python export.py --weights runs\\train\\yolov7Plastic\\weights\\best.pt --iou-thres 0.5 --img-size 640 640 --max-wh 640"
   ]
  },
  {
   "cell_type": "markdown",
   "id": "2199dd43",
   "metadata": {},
   "source": [
    "### Measure YOLO Model RAM Usage"
   ]
  },
  {
   "cell_type": "code",
   "execution_count": null,
   "id": "40072c9d",
   "metadata": {},
   "outputs": [],
   "source": [
    "#Measure YOLO Model RAM Usage\n",
    "\n",
    "#This will be passed to memory_usgae to run the model\n",
    "def detYolov7Plastic():\n",
    "    #Change this to your yolov7 directory\n",
    "    %cd C:\\Users\\grpoo\\capstone\\PlasticDetection\\yolov7\n",
    "    #detect.py is included with the yolov7 repository.\n",
    "    #make predictions on video of test dataset\n",
    "    %run detect.py --weights runs\\train\\yolov7Plastic\\weights\\best.pt --source C:\\Users\\grpoo\\capstone\\PlasticDetection\\testDataset.mp4 --iou-thres 0.5\n",
    "    return\n",
    "#Measure RAM Usage\n",
    "mem_usage = memory_usage(detYolov7Plastic)\n",
    "#Report results, the max of mem_usage is the max RAM usage\n",
    "print('Maximum memory usage: ' + str(round(max(mem_usage),2)) + ' MB, Average memory usage: '\n",
    "      + str(round(sum(mem_usage)/len(mem_usage),2)) + ' MB')"
   ]
  },
  {
   "cell_type": "code",
   "execution_count": null,
   "id": "0b1255a1",
   "metadata": {},
   "outputs": [],
   "source": []
  }
 ],
 "metadata": {
  "kernelspec": {
   "display_name": "Python 3 (ipykernel)",
   "language": "python",
   "name": "python3"
  },
  "language_info": {
   "codemirror_mode": {
    "name": "ipython",
    "version": 3
   },
   "file_extension": ".py",
   "mimetype": "text/x-python",
   "name": "python",
   "nbconvert_exporter": "python",
   "pygments_lexer": "ipython3",
   "version": "3.9.16"
  }
 },
 "nbformat": 4,
 "nbformat_minor": 5
}
