{
 "cells": [
  {
   "cell_type": "markdown",
   "id": "61a6c145",
   "metadata": {},
   "source": [
    "# Data Exploration and Transformation Notebook"
   ]
  },
  {
   "cell_type": "code",
   "execution_count": 1,
   "id": "cd1bc9f2",
   "metadata": {},
   "outputs": [],
   "source": [
    "#import\n",
    "from datasets import load_dataset, Image\n",
    "\n",
    "import cv2 \n",
    "import os\n",
    "import PIL\n",
    "\n",
    "import pandas as pd\n"
   ]
  },
  {
   "cell_type": "markdown",
   "id": "457092c0",
   "metadata": {},
   "source": [
    "# Load Dataset"
   ]
  },
  {
   "cell_type": "code",
   "execution_count": 2,
   "id": "0d72cca6",
   "metadata": {},
   "outputs": [
    {
     "name": "stderr",
     "output_type": "stream",
     "text": [
      "D:\\anacondaPython\\envs\\Capstone\\lib\\site-packages\\datasets\\table.py:1421: FutureWarning: promote has been superseded by mode='default'.\n",
      "  table = cls._concat_blocks(blocks, axis=0)\n"
     ]
    }
   ],
   "source": [
    "#load the dataset from hugging face\n",
    "dataset = load_dataset(\"kili-technology/plastic_in_river\")"
   ]
  },
  {
   "cell_type": "code",
   "execution_count": 3,
   "id": "8f02338c",
   "metadata": {},
   "outputs": [
    {
     "data": {
      "text/plain": [
       "DatasetDict({\n",
       "    train: Dataset({\n",
       "        features: ['image', 'litter'],\n",
       "        num_rows: 3407\n",
       "    })\n",
       "    test: Dataset({\n",
       "        features: ['image', 'litter'],\n",
       "        num_rows: 427\n",
       "    })\n",
       "    validation: Dataset({\n",
       "        features: ['image', 'litter'],\n",
       "        num_rows: 425\n",
       "    })\n",
       "})"
      ]
     },
     "execution_count": 3,
     "metadata": {},
     "output_type": "execute_result"
    }
   ],
   "source": [
    "dataset"
   ]
  },
  {
   "cell_type": "code",
   "execution_count": 4,
   "id": "99126258",
   "metadata": {},
   "outputs": [],
   "source": [
    "#break the dataset up into train test and validation sets\n",
    "trainData = dataset['train']\n",
    "testData = dataset['test']\n",
    "validationData = dataset['validation']"
   ]
  },
  {
   "cell_type": "code",
   "execution_count": 5,
   "id": "c1381c97",
   "metadata": {},
   "outputs": [
    {
     "data": {
      "text/plain": [
       "{'image': Image(decode=True, id=None),\n",
       " 'litter': Sequence(feature={'label': ClassLabel(names=['PLASTIC_BAG', 'PLASTIC_BOTTLE', 'OTHER_PLASTIC_WASTE', 'NOT_PLASTIC_WASTE'], id=None), 'bbox': Sequence(feature=Value(dtype='float32', id=None), length=4, id=None)}, length=-1, id=None)}"
      ]
     },
     "execution_count": 5,
     "metadata": {},
     "output_type": "execute_result"
    }
   ],
   "source": [
    "trainData.features"
   ]
  },
  {
   "cell_type": "code",
   "execution_count": 6,
   "id": "13834be0",
   "metadata": {},
   "outputs": [
    {
     "data": {
      "text/plain": [
       "{'image': Image(decode=True, id=None),\n",
       " 'litter': Sequence(feature={'label': ClassLabel(names=['PLASTIC_BAG', 'PLASTIC_BOTTLE', 'OTHER_PLASTIC_WASTE', 'NOT_PLASTIC_WASTE'], id=None), 'bbox': Sequence(feature=Value(dtype='float32', id=None), length=4, id=None)}, length=-1, id=None)}"
      ]
     },
     "execution_count": 6,
     "metadata": {},
     "output_type": "execute_result"
    }
   ],
   "source": [
    "testData.features"
   ]
  },
  {
   "cell_type": "code",
   "execution_count": 7,
   "id": "da827fc9",
   "metadata": {},
   "outputs": [
    {
     "data": {
      "text/plain": [
       "{'image': Image(decode=True, id=None),\n",
       " 'litter': Sequence(feature={'label': ClassLabel(names=['PLASTIC_BAG', 'PLASTIC_BOTTLE', 'OTHER_PLASTIC_WASTE', 'NOT_PLASTIC_WASTE'], id=None), 'bbox': Sequence(feature=Value(dtype='float32', id=None), length=4, id=None)}, length=-1, id=None)}"
      ]
     },
     "execution_count": 7,
     "metadata": {},
     "output_type": "execute_result"
    }
   ],
   "source": [
    "validationData.features"
   ]
  },
  {
   "cell_type": "code",
   "execution_count": 8,
   "id": "4b2f5a23",
   "metadata": {},
   "outputs": [],
   "source": [
    "# litter represents the labels for the images\n",
    "testLabels = testData['litter']\n",
    "trainLabels = trainData['litter']\n",
    "valLabels = validationData['litter']"
   ]
  },
  {
   "cell_type": "markdown",
   "id": "1da2ef90",
   "metadata": {},
   "source": [
    "# Test Data Exploration"
   ]
  },
  {
   "cell_type": "code",
   "execution_count": 9,
   "id": "65be4dec",
   "metadata": {},
   "outputs": [],
   "source": [
    "#convert labels into pandas dataframe\n",
    "#each row represents one image\n",
    "labelsPD = pd.DataFrame(testLabels)\n",
    "\n",
    "#label column is an array, determine its length\n",
    "labelsPD = labelsPD.assign(labelsLen = labelsPD['label'].apply(len))\n",
    "#bbox is an array of arrays, find its length\n",
    "labelsPD = labelsPD.assign(bboxLen = labelsPD['bbox'].apply(len))"
   ]
  },
  {
   "cell_type": "code",
   "execution_count": 11,
   "id": "97eaf6ee",
   "metadata": {},
   "outputs": [
    {
     "name": "stdout",
     "output_type": "stream",
     "text": [
      "Number of NA's in labels: 0\n",
      "Number of NA's in bbox: 0\n",
      "Number of missing labels: 0\n",
      "Number of empty labels: 52\n",
      "Number of empty bbox: 52\n",
      "Number of unequal label bbox pairs: 0\n",
      "Number of out of bounds bbox values: 0\n",
      "Data labels should be either empty or 0, 1, 2, or 3. Is this true: True\n"
     ]
    }
   ],
   "source": [
    "#Check for problems in dataset\n",
    "print(\"Number of NA's in labels: \" + str(labelsPD['label'].apply(lambda x: any(pd.isna(x))).sum()))\n",
    "print(\"Number of NA's in bbox: \" + str(labelsPD['bbox'].apply(lambda x: pd.isna(x).any()).sum()))\n",
    "print(\"Number of missing labels: \" + str(labelsPD[labelsPD['labelsLen'] > 0]['label'].apply(lambda x: '' in  x).sum()))\n",
    "print(\"Number of empty labels: \" + str(labelsPD[labelsPD['labelsLen'] == 0]['label'].apply(lambda x: not x).sum()))\n",
    "print(\"Number of empty bbox: \" + str(labelsPD[labelsPD['bboxLen'] == 0]['bbox'].apply(lambda x: not x).sum()))\n",
    "\n",
    "print(\"Number of unequal label bbox pairs: \" + str(len(labelsPD[labelsPD['labelsLen'] != labelsPD['bboxLen']])))\n",
    "print(\"Number of out of bounds bbox values: \" + str(labelsPD[labelsPD['bboxLen'] > 0]['bbox'].apply(\n",
    "    lambda x: sum([not (jj <= 1 and jj >= 0) for ii in x for jj in ii])).sum()))\n",
    "\n",
    "litterLabels = [0,1,2,3]\n",
    "print(\"Data labels should be either empty or 0, 1, 2, or 3. Is this true: \" + \n",
    "      str(labelsPD[labelsPD['labelsLen'] > 0]['label'].apply(lambda x: any([ii in x for ii in litterLabels])).all()))"
   ]
  },
  {
   "cell_type": "markdown",
   "id": "96b23c06",
   "metadata": {},
   "source": [
    "# Train Data Exploration"
   ]
  },
  {
   "cell_type": "code",
   "execution_count": 12,
   "id": "570282c4",
   "metadata": {},
   "outputs": [],
   "source": [
    "#convert labels into pandas dataframe\n",
    "#each row represents one image\n",
    "labelsPD = pd.DataFrame(trainLabels)\n",
    "\n",
    "#label column is an array, determine its length\n",
    "labelsPD = labelsPD.assign(labelsLen = labelsPD['label'].apply(len))\n",
    "#bbox is an array of arrays, find its length\n",
    "labelsPD = labelsPD.assign(bboxLen = labelsPD['bbox'].apply(len))"
   ]
  },
  {
   "cell_type": "code",
   "execution_count": 13,
   "id": "18a946e5",
   "metadata": {},
   "outputs": [
    {
     "name": "stdout",
     "output_type": "stream",
     "text": [
      "Number of NA's in labels: 0\n",
      "Number of NA's in bbox: 0\n",
      "Number of missing labels: 0\n",
      "Number of empty labels: 238\n",
      "Number of empty bbox: 238\n",
      "Number of unequal label bbox pairs: 0\n",
      "Number of out of bounds bbox values: 0\n",
      "Data labels should be either empty or 0, 1, 2, or 3. Is this true: True\n"
     ]
    }
   ],
   "source": [
    "#check for problems in dataset\n",
    "print(\"Number of NA's in labels: \" + str(labelsPD['label'].apply(lambda x: any(pd.isna(x))).sum()))\n",
    "print(\"Number of NA's in bbox: \" + str(labelsPD['bbox'].apply(lambda x: pd.isna(x).any()).sum()))\n",
    "print(\"Number of missing labels: \" + str(labelsPD[labelsPD['labelsLen'] > 0]['label'].apply(lambda x: '' in  x).sum()))\n",
    "print(\"Number of empty labels: \" + str(labelsPD[labelsPD['labelsLen'] == 0]['label'].apply(lambda x: not x).sum()))\n",
    "print(\"Number of empty bbox: \" + str(labelsPD[labelsPD['bboxLen'] == 0]['bbox'].apply(lambda x: not x).sum()))\n",
    "\n",
    "print(\"Number of unequal label bbox pairs: \" + str(len(labelsPD[labelsPD['labelsLen'] != labelsPD['bboxLen']])))\n",
    "print(\"Number of out of bounds bbox values: \" + str(labelsPD[labelsPD['bboxLen'] > 0]['bbox'].apply(\n",
    "    lambda x: sum([not (jj <= 1 and jj >= 0) for ii in x for jj in ii])).sum()))\n",
    "\n",
    "litterLabels = [0,1,2,3]\n",
    "print(\"Data labels should be either empty or 0, 1, 2, or 3. Is this true: \" + \n",
    "      str(labelsPD[labelsPD['labelsLen'] > 0]['label'].apply(lambda x: any([ii in x for ii in litterLabels])).all()))"
   ]
  },
  {
   "cell_type": "markdown",
   "id": "878a8ab1",
   "metadata": {},
   "source": [
    "# Validation Data Exploration"
   ]
  },
  {
   "cell_type": "code",
   "execution_count": 14,
   "id": "75749e71",
   "metadata": {},
   "outputs": [],
   "source": [
    "#convert labels into pandas dataframe\n",
    "#each row represents one image\n",
    "labelsPD = pd.DataFrame(valLabels)\n",
    "\n",
    "#label column is an array, determine its length\n",
    "labelsPD = labelsPD.assign(labelsLen = labelsPD['label'].apply(len))\n",
    "#bbox is an array of arrays, find its length\n",
    "labelsPD = labelsPD.assign(bboxLen = labelsPD['bbox'].apply(len))"
   ]
  },
  {
   "cell_type": "code",
   "execution_count": 15,
   "id": "2b0dea97",
   "metadata": {},
   "outputs": [
    {
     "name": "stdout",
     "output_type": "stream",
     "text": [
      "Number of NA's in labels: 0\n",
      "Number of NA's in bbox: 0\n",
      "Number of missing labels: 0\n",
      "Number of empty labels: 42\n",
      "Number of empty bbox: 42\n",
      "Number of unequal label bbox pairs: 0\n",
      "Number of out of bounds bbox values: 0\n",
      "Data labels should be either empty or 0, 1, 2, or 3. Is this true: True\n"
     ]
    }
   ],
   "source": [
    "#check for problems in dataset\n",
    "print(\"Number of NA's in labels: \" + str(labelsPD['label'].apply(lambda x: any(pd.isna(x))).sum()))\n",
    "print(\"Number of NA's in bbox: \" + str(labelsPD['bbox'].apply(lambda x: pd.isna(x).any()).sum()))\n",
    "print(\"Number of missing labels: \" + str(labelsPD[labelsPD['labelsLen'] > 0]['label'].apply(lambda x: '' in  x).sum()))\n",
    "print(\"Number of empty labels: \" + str(labelsPD[labelsPD['labelsLen'] == 0]['label'].apply(lambda x: not x).sum()))\n",
    "print(\"Number of empty bbox: \" + str(labelsPD[labelsPD['bboxLen'] == 0]['bbox'].apply(lambda x: not x).sum()))\n",
    "\n",
    "print(\"Number of unequal label bbox pairs: \" + str(len(labelsPD[labelsPD['labelsLen'] != labelsPD['bboxLen']])))\n",
    "print(\"Number of out of bounds bbox values: \" + str(labelsPD[labelsPD['bboxLen'] > 0]['bbox'].apply(\n",
    "    lambda x: sum([not (jj <= 1 and jj >= 0) for ii in x for jj in ii])).sum()))\n",
    "\n",
    "litterLabels = [0,1,2,3]\n",
    "print(\"Data labels should be either empty or 0, 1, 2, or 3. Is this true: \" + \n",
    "      str(labelsPD[labelsPD['labelsLen'] > 0]['label'].apply(lambda x: any([ii in x for ii in litterLabels])).all()))"
   ]
  },
  {
   "cell_type": "markdown",
   "id": "e72e997e",
   "metadata": {},
   "source": [
    "# Save Data"
   ]
  },
  {
   "cell_type": "markdown",
   "id": "e09b348a",
   "metadata": {},
   "source": [
    "### Please determine where to save the data and make an images and labels folder"
   ]
  },
  {
   "cell_type": "markdown",
   "id": "d28c2bab",
   "metadata": {},
   "source": [
    "### Inside the images and labels folders make a train, test, and val folder"
   ]
  },
  {
   "cell_type": "markdown",
   "id": "9438a860",
   "metadata": {},
   "source": [
    "## Remove Non-Plastic Waste and Save Labels to File"
   ]
  },
  {
   "cell_type": "code",
   "execution_count": 17,
   "id": "af7cef02",
   "metadata": {},
   "outputs": [],
   "source": [
    "#split between train, test and validation\n",
    "for split, data in dataset.items():\n",
    "    #location labels should be saved to\n",
    "    txtDirectory = \"D:\\school\\graduate school\\capstone\\data\\labels2\"\n",
    "    \n",
    "    #change directory to labels file\n",
    "    os.chdir(txtDirectory)\n",
    "    #change directory to either train, test, or val file\n",
    "    os.chdir(split)\n",
    "    #loop through each labels row, one file per row\n",
    "    for ii in range(len(data)):\n",
    "        #make a txt file for the label with name determined by index, index 0 will become 0.txt\n",
    "        f = open(str(ii) + \".txt\", 'w')\n",
    "        #one line in txt file per object in label array\n",
    "        for jj in range(len(data['litter'][ii]['label'])):\n",
    "            #do not add line if label is 3, this is non-plastic waste\n",
    "            if data['litter'][ii]['label'][jj] != 3:\n",
    "                #row starts with the object identifier, a number between 0 an 2\n",
    "                labelString = str(data['litter'][ii]['label'][jj])\n",
    "                #each line will have a bounding box which has four parts\n",
    "                for ee in range(4):\n",
    "                    #create the row as a string\n",
    "                    labelString = labelString + ' ' +str(data['litter'][ii]['bbox'][jj][ee])\n",
    "                labelString = labelString + '\\n'\n",
    "                #write the row to the file as a line\n",
    "                f.writelines(labelString)\n",
    "        #close the txt file\n",
    "        f.close()"
   ]
  },
  {
   "cell_type": "markdown",
   "id": "65c95b0f",
   "metadata": {},
   "source": [
    "## Save images to png"
   ]
  },
  {
   "cell_type": "code",
   "execution_count": null,
   "id": "3ac08d6e",
   "metadata": {},
   "outputs": [],
   "source": [
    "#split between train, test and validation\n",
    "for split, data in dataset.items():\n",
    "    #location images should be saved to\n",
    "    imageDirectory = f\"D:\\school\\graduate school\\capstone\\data\\images\\\\{split}\"\n",
    "    \n",
    "    #change directory to images file\n",
    "    os.chdir(imageDirectory)\n",
    "    #take the images\n",
    "    imageList = dataset[split]['image']\n",
    "    #loop through all the images\n",
    "    for ii in range(len(imageList)):\n",
    "        #for each image save the image as a png, image index 0 will be 0.png\n",
    "        imageList[ii].save(f'{ii}.png')"
   ]
  },
  {
   "cell_type": "markdown",
   "id": "18b4837d",
   "metadata": {},
   "source": [
    "# Make Test Images Into Video"
   ]
  },
  {
   "cell_type": "code",
   "execution_count": 5,
   "id": "9c12cc82",
   "metadata": {},
   "outputs": [
    {
     "name": "stdout",
     "output_type": "stream",
     "text": [
      "C:\\Users\\grpoo\\capstone\\PlasticDetection\n"
     ]
    }
   ],
   "source": [
    "#change directory to where the video should be saved\n",
    "%cd C:\\Users\\grpoo\\capstone\\PlasticDetection\n",
    "#folder where test split of images data is saved\n",
    "imageFolder = 'F:/capstoneData/images/test'\n",
    "#name of video\n",
    "videoName = 'testDataset.mp4'\n",
    "#array of image names in image folder\n",
    "images = [img for img in os.listdir(image_folder) if img.endswith(\".png\")]\n",
    "#height of the video\n",
    "height = 640\n",
    "#width of the video\n",
    "width = 640\n",
    "\n",
    "#set up video at 30 frames per second\n",
    "video = cv2.VideoWriter(video_name, 0, 30, (width,height))\n",
    "\n",
    "#add each image in image file to video\n",
    "for image in images:\n",
    "    #adds an image to video\n",
    "    #first opens the image with imread\n",
    "    #second resizes image to width and height, otherwise will skip images with diffrent widths and heights\n",
    "    #third adds the image to video\n",
    "    video.write(cv2.resize(cv2.imread(os.path.join(image_folder, image)), (width, height)))\n",
    "\n",
    "#save and close video\n",
    "cv2.destroyAllWindows()\n",
    "video.release()"
   ]
  },
  {
   "cell_type": "code",
   "execution_count": null,
   "id": "0b1255a1",
   "metadata": {},
   "outputs": [],
   "source": []
  }
 ],
 "metadata": {
  "kernelspec": {
   "display_name": "Python 3 (ipykernel)",
   "language": "python",
   "name": "python3"
  },
  "language_info": {
   "codemirror_mode": {
    "name": "ipython",
    "version": 3
   },
   "file_extension": ".py",
   "mimetype": "text/x-python",
   "name": "python",
   "nbconvert_exporter": "python",
   "pygments_lexer": "ipython3",
   "version": "3.9.16"
  }
 },
 "nbformat": 4,
 "nbformat_minor": 5
}
